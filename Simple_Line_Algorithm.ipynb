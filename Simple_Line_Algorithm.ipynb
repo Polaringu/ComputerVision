{
  "cells": [
    {
      "cell_type": "markdown",
      "metadata": {
        "id": "view-in-github",
        "colab_type": "text"
      },
      "source": [
        "<a href=\"https://colab.research.google.com/github/Polaringu/ComputerVision/blob/main/Simple_Line_Algorithm.ipynb\" target=\"_parent\"><img src=\"https://colab.research.google.com/assets/colab-badge.svg\" alt=\"Open In Colab\"/></a>"
      ]
    },
    {
      "cell_type": "code",
      "execution_count": 34,
      "metadata": {
        "colab": {
          "base_uri": "https://localhost:8080/",
          "height": 283
        },
        "id": "C4HZx7Gndbrh",
        "outputId": "b5038ae0-3ebd-4106-fd6e-e45b87016b1e"
      },
      "outputs": [
        {
          "output_type": "execute_result",
          "data": {
            "text/plain": [
              "<matplotlib.image.AxesImage at 0x7f434d3f6990>"
            ]
          },
          "metadata": {},
          "execution_count": 34
        },
        {
          "output_type": "display_data",
          "data": {
            "text/plain": [
              "<Figure size 432x288 with 1 Axes>"
            ],
            "image/png": "[encoded data removed]"
          },
          "metadata": {
            "needs_background": "light"
          }
        }
      ],
      "source": [
        "import numpy as np\n",
        "from matplotlib import pyplot as plt\n",
        "\n",
        "image = np.ones((30, 30))\n",
        "x_start = 13 #@param {type:\"integer\"}\n",
        "y_start = 13 #@param {type:\"integer\"}\n",
        "x_stop = 1 #@param {type:\"integer\"}\n",
        "y_stop = 5 #@param {type:\"integer\"}\n",
        "\n",
        "def drawLine(image, x_start, y_start, x_stop, y_stop):\n",
        "  image[y_start][x_start] = 0;\n",
        "  image[y_stop][x_stop] = 0;\n",
        "\n",
        "  y_curr = y_start\n",
        "  x_curr = x_start\n",
        "  x_len = abs(x_stop - x_start)\n",
        "  y_len = abs(y_stop - y_start)\n",
        "  x_used = 1\n",
        "  y_used = 1\n",
        "  while y_curr != y_stop and x_curr != x_stop:\n",
        "    x_delta = x_used / x_len\n",
        "    y_delta = y_used / y_len\n",
        "    isDeltaEqual = abs(x_delta - y_delta) < 0.1\n",
        "    if x_delta < y_delta or isDeltaEqual:\n",
        "      if x_stop < x_start:\n",
        "        x_curr -= 1\n",
        "      else:\n",
        "        x_curr += 1\n",
        "      x_used += 1\n",
        "    if x_delta > y_delta or isDeltaEqual:\n",
        "      if y_stop < y_start:\n",
        "        y_curr -= 1\n",
        "      else:\n",
        "        y_curr += 1\n",
        "      y_used += 1\n",
        "    image[y_curr][x_curr] = 0;\n",
        "\n",
        "drawLine(image, x_start, y_start, x_stop, y_stop)\n",
        "plt.imshow(image, cmap='gray')"
      ]
    }
  ],
  "metadata": {
    "colab": {
      "collapsed_sections": [],
      "name": "Simple Line Algorithm",
      "toc_visible": true,
      "provenance": [],
      "include_colab_link": true
    },
    "kernelspec": {
      "display_name": "Python 3",
      "name": "python3"
    }
  },
  "nbformat": 4,
  "nbformat_minor": 0
}